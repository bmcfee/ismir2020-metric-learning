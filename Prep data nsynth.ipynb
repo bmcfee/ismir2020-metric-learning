{
 "cells": [
  {
   "cell_type": "code",
   "execution_count": 14,
   "metadata": {},
   "outputs": [],
   "source": [
    "from tqdm import tqdm\n",
    "import librosa\n",
    "import librosa.display\n",
    "import matplotlib.pyplot as plt\n",
    "import numpy as np\n",
    "import pandas as pd\n",
    "from pathlib import Path"
   ]
  },
  {
   "cell_type": "code",
   "execution_count": 157,
   "metadata": {},
   "outputs": [],
   "source": [
    "def featurize(track):\n",
    "    y, sr = librosa.load(track, res_type='polyphase')\n",
    "    x = librosa.feature.mfcc(y=y, sr=sr, n_mfcc=20).mean(axis=1)\n",
    "    c = librosa.feature.chroma_cqt(y=y, sr=sr, n_octaves=6, fmin=librosa.note_to_hz('C1')).mean(axis=1)\n",
    "    \n",
    "    # Extremely quick and dirty dominant frequency estimator\n",
    "    S = np.mean(np.abs(librosa.stft(y))**2, axis=1)\n",
    "    freqs = np.fft.rfftfreq(2048, d=1/sr)\n",
    "    S[freqs < librosa.note_to_hz('C1')] = -1\n",
    "    S[freqs > librosa.note_to_hz('C6')] = -1\n",
    "    \n",
    "    f0 = freqs[np.argmax(S)]\n",
    "    \n",
    "    return np.concatenate((x, c, [f0]))"
   ]
  },
  {
   "cell_type": "code",
   "execution_count": 158,
   "metadata": {},
   "outputs": [],
   "source": [
    "def extract(index_file, base='nsynth_GCT634/'):\n",
    "    \n",
    "    files = pd.read_csv(index_file, header=None, squeeze=True).values\n",
    "    base = Path(base)\n",
    "    \n",
    "    X = []\n",
    "    Y = []\n",
    "    for file in tqdm(files):\n",
    "        fp = Path(file)\n",
    "        xi = featurize(base / fp)\n",
    "        yi = str(fp.name).split('_', 2)[0]\n",
    "        X.append(xi)\n",
    "        Y.append(yi)\n",
    "        \n",
    "    df = pd.DataFrame(data=X, index=files, columns=['mfcc_{:02d}'.format(_) for _ in range(20)] + ['chroma_{:02d}'.format(_) for _ in range(12)] + ['f0'])\n",
    "    df['instrument'] = Y\n",
    "    \n",
    "    return df"
   ]
  },
  {
   "cell_type": "code",
   "execution_count": 159,
   "metadata": {},
   "outputs": [
    {
     "name": "stderr",
     "output_type": "stream",
     "text": [
      "100%|██████████| 200/200 [00:49<00:00,  4.06it/s]\n"
     ]
    }
   ],
   "source": [
    "df = extract('nsynth_GCT634/test_list.txt')"
   ]
  },
  {
   "cell_type": "code",
   "execution_count": 160,
   "metadata": {},
   "outputs": [],
   "source": [
    "df.to_csv('nsynth_test.csv')"
   ]
  },
  {
   "cell_type": "code",
   "execution_count": 161,
   "metadata": {},
   "outputs": [
    {
     "name": "stderr",
     "output_type": "stream",
     "text": [
      "100%|██████████| 200/200 [00:52<00:00,  3.77it/s]\n"
     ]
    }
   ],
   "source": [
    "df = extract('nsynth_GCT634/valid_list.txt')"
   ]
  },
  {
   "cell_type": "code",
   "execution_count": 162,
   "metadata": {},
   "outputs": [],
   "source": [
    "df.to_csv('nsynth_valid.csv')"
   ]
  },
  {
   "cell_type": "code",
   "execution_count": 163,
   "metadata": {},
   "outputs": [
    {
     "name": "stderr",
     "output_type": "stream",
     "text": [
      "100%|██████████| 1000/1000 [04:18<00:00,  3.87it/s]\n"
     ]
    }
   ],
   "source": [
    "df = extract('nsynth_GCT634/train_list.txt')"
   ]
  },
  {
   "cell_type": "code",
   "execution_count": 164,
   "metadata": {},
   "outputs": [],
   "source": [
    "df.to_csv('nsynth_train.csv')"
   ]
  }
 ],
 "metadata": {
  "kernelspec": {
   "display_name": "bloody",
   "language": "python",
   "name": "bloody"
  },
  "language_info": {
   "codemirror_mode": {
    "name": "ipython",
    "version": 3
   },
   "file_extension": ".py",
   "mimetype": "text/x-python",
   "name": "python",
   "nbconvert_exporter": "python",
   "pygments_lexer": "ipython3",
   "version": "3.7.7"
  }
 },
 "nbformat": 4,
 "nbformat_minor": 4
}
